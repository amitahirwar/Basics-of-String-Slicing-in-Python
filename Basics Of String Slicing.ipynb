{
 "cells": [
  {
   "cell_type": "markdown",
   "id": "2d402fad",
   "metadata": {},
   "source": [
    "1. 1. *Print First and Last Characters:*\n",
    "   - Declare a string and print the first character.\n",
    "  "
   ]
  },
  {
   "cell_type": "code",
   "execution_count": 1,
   "id": "f6ea99b8",
   "metadata": {},
   "outputs": [
    {
     "data": {
      "text/plain": [
       "'A'"
      ]
     },
     "execution_count": 1,
     "metadata": {},
     "output_type": "execute_result"
    }
   ],
   "source": [
    "a = 'AmitAhirwar'\n",
    "a[0]"
   ]
  },
  {
   "cell_type": "markdown",
   "id": "16b35f5c",
   "metadata": {},
   "source": [
    " - Print the last character of the string."
   ]
  },
  {
   "cell_type": "code",
   "execution_count": 2,
   "id": "1abf9871",
   "metadata": {},
   "outputs": [
    {
     "data": {
      "text/plain": [
       "'r'"
      ]
     },
     "execution_count": 2,
     "metadata": {},
     "output_type": "execute_result"
    }
   ],
   "source": [
    "a = 'AmitAhirwar'\n",
    "a[-1]"
   ]
  },
  {
   "cell_type": "markdown",
   "id": "2c0733c7",
   "metadata": {},
   "source": [
    "2. *Extract Substring:*\n",
    "   - Declare a string and extract a substring containing the first three characters.\n",
    "   "
   ]
  },
  {
   "cell_type": "code",
   "execution_count": 3,
   "id": "ca8bcaa1",
   "metadata": {},
   "outputs": [
    {
     "data": {
      "text/plain": [
       "'Ami'"
      ]
     },
     "execution_count": 3,
     "metadata": {},
     "output_type": "execute_result"
    }
   ],
   "source": [
    "a = 'AmitIsStudent'\n",
    "a[0:3]"
   ]
  },
  {
   "cell_type": "markdown",
   "id": "1fc4c42c",
   "metadata": {},
   "source": [
    "- Extract a substring that starts from the third character to the end of the string."
   ]
  },
  {
   "cell_type": "code",
   "execution_count": 5,
   "id": "76afb4eb",
   "metadata": {},
   "outputs": [
    {
     "data": {
      "text/plain": [
       "'itIsStudent'"
      ]
     },
     "execution_count": 5,
     "metadata": {},
     "output_type": "execute_result"
    }
   ],
   "source": [
    "a = 'AmitIsStudent'\n",
    "a[2:]"
   ]
  },
  {
   "cell_type": "markdown",
   "id": "53a47a1a",
   "metadata": {},
   "source": [
    "3. *Print Even and Odd Positions:*\n",
    "   - Declare a string and print characters at even positions (0-based index).\n",
    "   "
   ]
  },
  {
   "cell_type": "code",
   "execution_count": 7,
   "id": "50eb877b",
   "metadata": {},
   "outputs": [
    {
     "data": {
      "text/plain": [
       "'AiISuet'"
      ]
     },
     "execution_count": 7,
     "metadata": {},
     "output_type": "execute_result"
    }
   ],
   "source": [
    "a = 'AmitIsStudent'\n",
    "a[0::2]"
   ]
  },
  {
   "cell_type": "markdown",
   "id": "6b66cce1",
   "metadata": {},
   "source": [
    "- Print characters at odd positions of the string."
   ]
  },
  {
   "cell_type": "code",
   "execution_count": 11,
   "id": "194e8c64",
   "metadata": {},
   "outputs": [
    {
     "data": {
      "text/plain": [
       "'mtstdn'"
      ]
     },
     "execution_count": 11,
     "metadata": {},
     "output_type": "execute_result"
    }
   ],
   "source": [
    "a = 'AmitIsStudent'\n",
    "a[1::2]"
   ]
  },
  {
   "cell_type": "markdown",
   "id": "2f77509a",
   "metadata": {},
   "source": [
    "4. *Reverse a String:*\n",
    "   - Declare a string and print it in reverse order."
   ]
  },
  {
   "cell_type": "code",
   "execution_count": 15,
   "id": "61bc6c77",
   "metadata": {},
   "outputs": [
    {
     "data": {
      "text/plain": [
       "'tnedutSdooGsItimA'"
      ]
     },
     "execution_count": 15,
     "metadata": {},
     "output_type": "execute_result"
    }
   ],
   "source": [
    "a = 'AmitIsGoodStudent'\n",
    "a[::-1]"
   ]
  },
  {
   "cell_type": "markdown",
   "id": "eea59ca6",
   "metadata": {},
   "source": [
    "5. *Slice with Stride:*\n",
    "   - Declare a string and print every second character using slicing.\n"
   ]
  },
  {
   "cell_type": "code",
   "execution_count": 16,
   "id": "0a85b79d",
   "metadata": {},
   "outputs": [
    {
     "data": {
      "text/plain": [
       "'mtsodtdn'"
      ]
     },
     "execution_count": 16,
     "metadata": {},
     "output_type": "execute_result"
    }
   ],
   "source": [
    "a = 'AmitIsGoodStudent'\n",
    "a[1:17:2]"
   ]
  },
  {
   "cell_type": "markdown",
   "id": "35e89d25",
   "metadata": {},
   "source": [
    "6. *Negative Indexing:*\n",
    "   - Declare a string and use negative indexing to print the last three characters."
   ]
  },
  {
   "cell_type": "code",
   "execution_count": 21,
   "id": "b302028b",
   "metadata": {},
   "outputs": [
    {
     "data": {
      "text/plain": [
       "'ent'"
      ]
     },
     "execution_count": 21,
     "metadata": {},
     "output_type": "execute_result"
    }
   ],
   "source": [
    "a = 'AmitIsGoodStudent'\n",
    "a[-3:]"
   ]
  },
  {
   "cell_type": "markdown",
   "id": "67948aca",
   "metadata": {},
   "source": [
    "7. *Substring Replacement:*\n",
    "   - Declare a string and replace a specific substring with another.\n"
   ]
  },
  {
   "cell_type": "code",
   "execution_count": 22,
   "id": "222e4080",
   "metadata": {},
   "outputs": [
    {
     "data": {
      "text/plain": [
       "'Amit is a big brother in his entire family'"
      ]
     },
     "execution_count": 22,
     "metadata": {},
     "output_type": "execute_result"
    }
   ],
   "source": [
    "a = 'Ayush is a big brother in his entire family'\n",
    "a.replace(\"Ayush\", \"Amit\")"
   ]
  },
  {
   "cell_type": "markdown",
   "id": "cd4d2cb2",
   "metadata": {},
   "source": [
    "8. *Slice from the End:*\n",
    "   - Declare a string and extract the last four characters using slicing.\n"
   ]
  },
  {
   "cell_type": "code",
   "execution_count": 23,
   "id": "75b69bd7",
   "metadata": {},
   "outputs": [
    {
     "data": {
      "text/plain": [
       "'dent'"
      ]
     },
     "execution_count": 23,
     "metadata": {},
     "output_type": "execute_result"
    }
   ],
   "source": [
    "a = 'AmitIsGoodStudent'\n",
    "a[-4:]"
   ]
  },
  {
   "cell_type": "markdown",
   "id": "9a6f22d2",
   "metadata": {},
   "source": [
    "9. *Omitting Start or End Index:*\n",
    "   - Declare a string and print the first three characters without specifying the start index.\n",
    "  \n"
   ]
  },
  {
   "cell_type": "code",
   "execution_count": 25,
   "id": "15de4bb1",
   "metadata": {},
   "outputs": [
    {
     "data": {
      "text/plain": [
       "'Ami'"
      ]
     },
     "execution_count": 25,
     "metadata": {},
     "output_type": "execute_result"
    }
   ],
   "source": [
    "a = 'AmitIsGoodStudent'\n",
    "a[:3]"
   ]
  },
  {
   "cell_type": "markdown",
   "id": "f25291f4",
   "metadata": {},
   "source": [
    " - Print the last four characters without specifying the end index."
   ]
  },
  {
   "cell_type": "code",
   "execution_count": 26,
   "id": "fa189d06",
   "metadata": {},
   "outputs": [
    {
     "data": {
      "text/plain": [
       "'dent'"
      ]
     },
     "execution_count": 26,
     "metadata": {},
     "output_type": "execute_result"
    }
   ],
   "source": [
    "a = 'AmitIsGoodStudent'\n",
    "a[-4:]"
   ]
  },
  {
   "cell_type": "markdown",
   "id": "33f7cc78",
   "metadata": {},
   "source": [
    "10. *Slice with Variables:*\n",
    "    - Declare a string and use variables to dynamically define start and end indices for slicing."
   ]
  },
  {
   "cell_type": "code",
   "execution_count": 34,
   "id": "580c1e7a",
   "metadata": {},
   "outputs": [
    {
     "data": {
      "text/plain": [
       "'leaving in nagpur from the last 20 years'"
      ]
     },
     "execution_count": 34,
     "metadata": {},
     "output_type": "execute_result"
    }
   ],
   "source": [
    "x = \"Amit is leaving in nagpur from the last 20 years\"\n",
    "a = 8\n",
    "b = 49\n",
    "result = x[a:b]\n",
    "result"
   ]
  },
  {
   "cell_type": "markdown",
   "id": "f7e48e35",
   "metadata": {},
   "source": [
    "11. *Empty String Slicing:*\n",
    "    - Declare an empty string and attempt to perform string slicing. Observe the result."
   ]
  },
  {
   "cell_type": "code",
   "execution_count": 35,
   "id": "ae444083",
   "metadata": {},
   "outputs": [
    {
     "data": {
      "text/plain": [
       "' '"
      ]
     },
     "execution_count": 35,
     "metadata": {},
     "output_type": "execute_result"
    }
   ],
   "source": [
    "a = \"    \"\n",
    "a[2]"
   ]
  },
  {
   "cell_type": "markdown",
   "id": "4e1c9539",
   "metadata": {},
   "source": [
    "# **Here are some basic questions related to string functions in Python:**"
   ]
  },
  {
   "cell_type": "markdown",
   "id": "5a367132",
   "metadata": {},
   "source": [
    "1. *String Length:*\n",
    "   - Declare a string and find its length using the len() function."
   ]
  },
  {
   "cell_type": "code",
   "execution_count": 38,
   "id": "7564a30f",
   "metadata": {},
   "outputs": [
    {
     "data": {
      "text/plain": [
       "53"
      ]
     },
     "execution_count": 38,
     "metadata": {},
     "output_type": "execute_result"
    }
   ],
   "source": [
    "a = \"Amit was a science student but he like to do art work\"\n",
    "len(a)"
   ]
  },
  {
   "cell_type": "markdown",
   "id": "8eb05f03",
   "metadata": {},
   "source": [
    "2. *Uppercase and Lowercase:*\n",
    "   - Declare a string and convert it to uppercase.\n",
    "   "
   ]
  },
  {
   "cell_type": "code",
   "execution_count": 40,
   "id": "4ad48c59",
   "metadata": {},
   "outputs": [
    {
     "data": {
      "text/plain": [
       "'AMIT WAS A SCIENCE STUDENT BUT HE LIKE TO DO ART WORK'"
      ]
     },
     "execution_count": 40,
     "metadata": {},
     "output_type": "execute_result"
    }
   ],
   "source": [
    "a = \"Amit was a science student but he like to do art work\"\n",
    "a.upper()"
   ]
  },
  {
   "cell_type": "markdown",
   "id": "320f6a5b",
   "metadata": {},
   "source": [
    "- Convert the same string to lowercase."
   ]
  },
  {
   "cell_type": "code",
   "execution_count": 41,
   "id": "6e995003",
   "metadata": {},
   "outputs": [
    {
     "data": {
      "text/plain": [
       "'amit was a science student but he like to do art work'"
      ]
     },
     "execution_count": 41,
     "metadata": {},
     "output_type": "execute_result"
    }
   ],
   "source": [
    "a = \"Amit was a science student but he like to do art work\"\n",
    "a.lower()"
   ]
  },
  {
   "cell_type": "markdown",
   "id": "fb2a2adc",
   "metadata": {},
   "source": [
    "3. *Count Occurrences:*\n",
    "   - Declare a string and count the number of occurrences of a specific character.\n"
   ]
  },
  {
   "cell_type": "code",
   "execution_count": 47,
   "id": "03caa876",
   "metadata": {},
   "outputs": [
    {
     "data": {
      "text/plain": [
       "3"
      ]
     },
     "execution_count": 47,
     "metadata": {},
     "output_type": "execute_result"
    }
   ],
   "source": [
    "a = \"Amit was a science student but he like to do art work\"\n",
    "a.count(\"a\")"
   ]
  },
  {
   "cell_type": "markdown",
   "id": "c6e6ba6e",
   "metadata": {},
   "source": [
    "4. *String Concatenation:*\n",
    "   - Declare two strings and concatenate them into a single string."
   ]
  },
  {
   "cell_type": "code",
   "execution_count": 51,
   "id": "5dce7e91",
   "metadata": {},
   "outputs": [
    {
     "data": {
      "text/plain": [
       "'Amit was a science student but he like to do art work. Amit is a big brother in his entire family'"
      ]
     },
     "execution_count": 51,
     "metadata": {},
     "output_type": "execute_result"
    }
   ],
   "source": [
    "a = \"Amit was a science student but he like to do art work.\"\n",
    "b = 'Amit is a big brother in his entire family'\n",
    "c = a + \" \" + b \n",
    "c"
   ]
  },
  {
   "cell_type": "markdown",
   "id": "d6042922",
   "metadata": {},
   "source": [
    "5. *String Repetition:*\n",
    "   - Declare a string and repeat it three times."
   ]
  },
  {
   "cell_type": "code",
   "execution_count": 55,
   "id": "85a237ca",
   "metadata": {},
   "outputs": [
    {
     "data": {
      "text/plain": [
       "'Amit was a science student but he like to do art work.\\\\Amit was a science student but he like to do art work.\\\\Amit was a science student but he like to do art work.\\\\'"
      ]
     },
     "execution_count": 55,
     "metadata": {},
     "output_type": "execute_result"
    }
   ],
   "source": [
    "a = \"Amit was a science student but he like to do art work.\\\\\"\n",
    "b = a * 3\n",
    "b"
   ]
  },
  {
   "cell_type": "markdown",
   "id": "f743d7fb",
   "metadata": {},
   "source": [
    "6. *Find Substring:*\n",
    "   - Declare a string and find the index of a specific substring."
   ]
  },
  {
   "cell_type": "code",
   "execution_count": 57,
   "id": "c05d891c",
   "metadata": {},
   "outputs": [
    {
     "data": {
      "text/plain": [
       "34"
      ]
     },
     "execution_count": 57,
     "metadata": {},
     "output_type": "execute_result"
    }
   ],
   "source": [
    "a = \"Amit was a science student but he like to do art work.\\\\\"\n",
    "a.find(\"like\")"
   ]
  },
  {
   "cell_type": "markdown",
   "id": "842ab40e",
   "metadata": {},
   "source": [
    "7. *Replace Substring:*\n",
    "   - Declare a string and replace a specific substring with another.\n"
   ]
  },
  {
   "cell_type": "code",
   "execution_count": 58,
   "id": "1efb66af",
   "metadata": {},
   "outputs": [
    {
     "data": {
      "text/plain": [
       "'Amit is a science student but he like to do art work.\\\\'"
      ]
     },
     "execution_count": 58,
     "metadata": {},
     "output_type": "execute_result"
    }
   ],
   "source": [
    "a = \"Amit was a science student but he like to do art work.\"\n",
    "a.replace(\"was\", \"is\")"
   ]
  },
  {
   "cell_type": "markdown",
   "id": "9704b42f",
   "metadata": {},
   "source": [
    "8. *String Stripping:*\n",
    "   - Declare a string with leading and trailing whitespaces, and remove them using the strip() function."
   ]
  },
  {
   "cell_type": "code",
   "execution_count": 60,
   "id": "54e49915",
   "metadata": {},
   "outputs": [
    {
     "data": {
      "text/plain": [
       "'Amit was a science student but he like to do art work.'"
      ]
     },
     "execution_count": 60,
     "metadata": {},
     "output_type": "execute_result"
    }
   ],
   "source": [
    "a = \"    Amit was a science student but he like to do art work.  \"\n",
    "a.strip()"
   ]
  },
  {
   "cell_type": "markdown",
   "id": "b7c18e87",
   "metadata": {},
   "source": [
    "9. *String Splitting:*\n",
    "   - Declare a string representing a sentence and split it into a list of words using the split() function."
   ]
  },
  {
   "cell_type": "code",
   "execution_count": 69,
   "id": "de9f4416",
   "metadata": {},
   "outputs": [
    {
     "data": {
      "text/plain": [
       "['Amit', 'was', 'a', 'science', 'student']"
      ]
     },
     "execution_count": 69,
     "metadata": {},
     "output_type": "execute_result"
    }
   ],
   "source": [
    "a = \"Amit was a science student\"\n",
    "a.split()"
   ]
  },
  {
   "cell_type": "markdown",
   "id": "b0afd893",
   "metadata": {},
   "source": [
    "10. *Joining Strings:*\n",
    "    - Declare a list of words and join them into a sentence using the join() function."
   ]
  },
  {
   "cell_type": "code",
   "execution_count": 77,
   "id": "971f223b",
   "metadata": {},
   "outputs": [
    {
     "data": {
      "text/plain": [
       "'Amit was a science student'"
      ]
     },
     "execution_count": 77,
     "metadata": {},
     "output_type": "execute_result"
    }
   ],
   "source": [
    "a = ['Amit', 'was', 'a', 'science', 'student']\n",
    "sentence = \" \".join(a)\n",
    "sentence"
   ]
  },
  {
   "cell_type": "markdown",
   "id": "28b5f119",
   "metadata": {},
   "source": [
    "11. *Checking Start and End:*\n",
    "    - Declare a string and check if it starts with a specific prefix.\n",
    "  "
   ]
  },
  {
   "cell_type": "code",
   "execution_count": 78,
   "id": "6967f836",
   "metadata": {},
   "outputs": [
    {
     "name": "stdout",
     "output_type": "stream",
     "text": [
      "The string starts with \"Hello\"\n"
     ]
    }
   ],
   "source": [
    "my_string = \"Hello, World!\"\n",
    "\n",
    "# Check if the string starts with a specific prefix\n",
    "prefix = \"Hello\"\n",
    "if my_string.startswith(prefix):\n",
    "    print(f'The string starts with \"{prefix}\"')\n",
    "else:\n",
    "    print(f'The string does not start with \"{prefix}\"')"
   ]
  },
  {
   "cell_type": "markdown",
   "id": "bf544868",
   "metadata": {},
   "source": [
    "  - Check if the same string ends with a specific suffix."
   ]
  },
  {
   "cell_type": "code",
   "execution_count": 84,
   "id": "bcc1a31b",
   "metadata": {},
   "outputs": [
    {
     "name": "stdout",
     "output_type": "stream",
     "text": [
      "The string ends with \"World!\"\n"
     ]
    }
   ],
   "source": [
    "my_string = \"Hello, World!\"\n",
    "\n",
    "# Check if the string ends with a specific suffix\n",
    "suffix = \"World!\"\n",
    "if my_string.endswith(suffix):\n",
    "    print(f'The string ends with \"{suffix}\"')\n",
    "else:\n",
    "    print(f'The string does not end with \"{suffix}\"')\n"
   ]
  },
  {
   "cell_type": "markdown",
   "id": "dbc2effb",
   "metadata": {},
   "source": [
    "12. *Character Isolation:*\n",
    "    - Declare a string and use indexing to isolate and print the third character."
   ]
  },
  {
   "cell_type": "code",
   "execution_count": 89,
   "id": "04e8010e",
   "metadata": {},
   "outputs": [
    {
     "name": "stdout",
     "output_type": "stream",
     "text": [
      "The third charecter is: i\n"
     ]
    }
   ],
   "source": [
    "a = \"Amit was a science student\"\n",
    "b = a[2]\n",
    "print('The third charecter is:', b)"
   ]
  },
  {
   "cell_type": "markdown",
   "id": "04516ccd",
   "metadata": {},
   "source": [
    "13. *String Formatting:*\n",
    "    - Declare variables for a person's name and age, and use string formatting to create a sentence."
   ]
  },
  {
   "cell_type": "code",
   "execution_count": 93,
   "id": "bd83e69c",
   "metadata": {},
   "outputs": [
    {
     "name": "stdout",
     "output_type": "stream",
     "text": [
      "Amit, is 23 years old\n"
     ]
    }
   ],
   "source": [
    "a = 'Amit'\n",
    "b = 23\n",
    "print(f\"{a}, is {b} years old\" )"
   ]
  },
  {
   "cell_type": "markdown",
   "id": "58d26155",
   "metadata": {},
   "source": [
    "**These questions cover various string functions in Python and will help you become familiar with manipulating strings using built-in functions.**"
   ]
  },
  {
   "cell_type": "markdown",
   "id": "f2ddde75",
   "metadata": {},
   "source": [
    "------------------------------------------------------------------- Thank You -----------------------------------------------------------------------------------"
   ]
  }
 ],
 "metadata": {
  "kernelspec": {
   "display_name": "Python 3 (ipykernel)",
   "language": "python",
   "name": "python3"
  },
  "language_info": {
   "codemirror_mode": {
    "name": "ipython",
    "version": 3
   },
   "file_extension": ".py",
   "mimetype": "text/x-python",
   "name": "python",
   "nbconvert_exporter": "python",
   "pygments_lexer": "ipython3",
   "version": "3.11.5"
  }
 },
 "nbformat": 4,
 "nbformat_minor": 5
}
